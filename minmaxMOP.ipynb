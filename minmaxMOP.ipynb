{
 "cells": [
  {
   "cell_type": "code",
   "execution_count": 1,
   "metadata": {},
   "outputs": [],
   "source": [
    "import numpy as np\n",
    "import pandas as pd\n",
    "from scipy import optimize \n",
    "from scipy.optimize import linprog"
   ]
  },
  {
   "cell_type": "code",
   "execution_count": 2,
   "metadata": {},
   "outputs": [],
   "source": [
    "#function obtains maximal return portfolio using linear programming\n",
    "\n",
    "def MaximizeReturns(MeanReturns, PortfolioSize):\n",
    "    \n",
    "    #dependencies\n",
    "    \n",
    "    \n",
    "    c = (np.multiply(-1, MeanReturns))\n",
    "    A = np.ones([PortfolioSize,1]).T\n",
    "    # print(c.shape)\n",
    "    # print(A.shape)\n",
    "    b=[1]\n",
    "    res = linprog(c, A_ub = A, b_ub = b, bounds = (0,1), method = 'simplex') \n",
    "    \n",
    "    return res"
   ]
  },
  {
   "cell_type": "code",
   "execution_count": 11,
   "metadata": {},
   "outputs": [],
   "source": [
    "#function obtains minimal risk portfolio \n",
    "\n",
    "#dependencies\n",
    "\n",
    "def MinimizeRisk(CovarReturns, PortfolioSize):\n",
    "    \n",
    "    def f(x, CovarReturns):\n",
    "        func = np.matmul(np.matmul(x, CovarReturns), x.T) \n",
    "        return func\n",
    "\n",
    "    def constraintEq(x):\n",
    "        A = np.ones(x.shape)\n",
    "        b = 1\n",
    "        constraintVal = np.matmul(A, x.T) - b \n",
    "        return constraintVal\n",
    "    \n",
    "    xinit = np.repeat(0.1, PortfolioSize)\n",
    "    cons = ({'type': 'eq', 'fun': constraintEq})\n",
    "    lb = 0\n",
    "    ub = 1\n",
    "    bnds = tuple([(lb, ub) for x in xinit])\n",
    "\n",
    "    opt = optimize.minimize(f, x0=xinit, args=(CovarReturns), bounds=bnds, \\\n",
    "                             constraints=cons, tol=10**-3)\n",
    "    \n",
    "    return opt"
   ]
  },
  {
   "cell_type": "code",
   "execution_count": 4,
   "metadata": {},
   "outputs": [],
   "source": [
    "#function obtains Minimal risk and Maximum return portfolios\n",
    "\n",
    "#dependencies\n",
    "\n",
    "\n",
    "def MinimizeRiskConstr(MeanReturns, CovarReturns, PortfolioSize, R):\n",
    "    \n",
    "    def  f(x,CovarReturns):\n",
    "         \n",
    "        func = np.matmul(np.matmul(x,CovarReturns ), x.T)\n",
    "        return func\n",
    "\n",
    "    def constraintEq(x):\n",
    "        AEq=np.ones(x.shape)\n",
    "        bEq=1\n",
    "        EqconstraintVal = np.matmul(AEq,x.T)-bEq \n",
    "        return EqconstraintVal\n",
    "    \n",
    "    def constraintIneq(x, MeanReturns, R):\n",
    "        AIneq = np.array(MeanReturns)\n",
    "        bIneq = R\n",
    "        IneqconstraintVal = np.matmul(AIneq,x.T) - bIneq\n",
    "        return IneqconstraintVal\n",
    "    \n",
    "\n",
    "    xinit=np.repeat(0.1, PortfolioSize)\n",
    "    cons = ({'type': 'eq', 'fun':constraintEq},\n",
    "            {'type':'ineq', 'fun':constraintIneq, 'args':(MeanReturns,R) })\n",
    "    lb = 0\n",
    "    ub = 1\n",
    "    bnds = tuple([(lb,ub) for x in xinit])\n",
    "\n",
    "    opt = optimize.minimize (f, args = (CovarReturns), method ='trust-constr',  \\\n",
    "                        x0 = xinit,   bounds = bnds, constraints = cons, tol = 10**-3)\n",
    "    \n",
    "    return  opt"
   ]
  },
  {
   "cell_type": "code",
   "execution_count": 5,
   "metadata": {},
   "outputs": [],
   "source": [
    "# function computes asset returns \n",
    "def StockReturnsComputing(StockPrice, Rows, Columns):\n",
    "    \n",
    "    import numpy as np\n",
    "    \n",
    "    StockReturn = np.zeros([Rows-1, Columns])\n",
    "    for j in range(Columns):        # j: Assets\n",
    "        for i in range(Rows-1):     # i: Daily Prices\n",
    "            StockReturn[i,j]=((StockPrice[i+1, j]-StockPrice[i,j])/StockPrice[i,j])* 100\n",
    "\n",
    "    return StockReturn"
   ]
  },
  {
   "cell_type": "code",
   "execution_count": 6,
   "metadata": {},
   "outputs": [
    {
     "name": "stdout",
     "output_type": "stream",
     "text": [
      "(1630, 69)\n",
      "68\n",
      "['BOB', 'BOI', 'CBI', 'City Union', 'DCB', 'Federal', 'HDFC', 'ICICI', 'Kotak', 'PNB', 'RBL', 'SBI', 'UCO', 'Union Bank', 'Yes Bank', 'Bajaj Finance', 'Bajaj Finserv', 'BF investment', 'Cholmandalam Finance Holding', 'edelweiss', 'IDFC', 'HDFC fin', 'KILC', 'LT', 'Motilal Oswal', 'Reliance Capital', 'SBI.1', 'Shriram Finance', 'Tata Investment', 'HCL info', 'HCL tech', 'Infosys', 'Mphasis', 'Naukri', 'Oracle', 'TCS', 'Tech Mahindra', 'Wipro', 'Aarti', 'Ajanta Pharma', 'Alembic', 'Biocon', 'Cipla', 'Dr. Reddys', 'Indoco', 'JB', 'Lupin', 'Natco', 'Panacea', 'Piramal', 'Sun', 'Aditya Birla Fashion', 'Future Lifestyle', 'PC jewellers', 'Future', 'rajesh exports', 'Shoppers Stop', 'Titan', 'Trent', 'Arvind', 'Bombay Dyeing', 'Grasim', 'KPR Mill', 'Page Ind', 'Raymond', 'SRF', 'Vardhman', 'Welspun']\n",
      "(1630, 68)\n",
      "Mean returns of assets in k-portfolio 1\n",
      " [ 0.025  0.065  0.138  0.029  0.028 -0.01   0.014 -0.062 -0.041  0.083\n",
      "  0.075 -0.029  0.067  0.071  0.525 -0.1    0.471  0.007  0.009  0.127\n",
      " -0.002  0.014  0.003  0.015  0.01   0.288 -0.029 -0.001 -0.067  0.162\n",
      "  0.017  0.017 -0.061 -0.067  0.008  0.01  -0.03   0.05   0.071  0.039\n",
      "  0.012  0.181 -0.028 -0.02   0.042 -0.091  0.048  0.011  0.076  0.08\n",
      " -0.014  0.007  0.288  0.311  0.273  0.025 -0.012 -0.115 -0.099  0.164\n",
      "  0.024 -0.021  0.181 -0.037 -0.032  0.143  0.242 -0.012]\n",
      "Variance-Covariance matrix of returns\n",
      " [[ 8.287  6.209  4.411 ...  1.918  1.374  3.926]\n",
      " [ 6.209 10.215  5.808 ...  1.429  1.223  3.84 ]\n",
      " [ 4.411  5.808 15.338 ...  0.213  1.554  2.693]\n",
      " ...\n",
      " [ 1.918  1.429  0.213 ... 94.424 -1.333  2.67 ]\n",
      " [ 1.374  1.223  1.554 ... -1.333 98.354  1.596]\n",
      " [ 3.926  3.84   2.693 ...  2.67   1.596 14.095]]\n"
     ]
    }
   ],
   "source": [
    "# Obtain optimal portfolio sets that maximize return and minimize risk\n",
    "\n",
    "#Dependencies\n",
    "\n",
    "\n",
    "\n",
    "#input k-portfolio 1 dataset comprising 15 stocks\n",
    "StockFileName = 'dataset.csv'\n",
    "\n",
    "\n",
    "\n",
    "\n",
    "#read stock prices in a dataframe\n",
    "df = pd.read_csv(StockFileName,  index_col=0)\n",
    "Rows = df.shape[0] - 1\n",
    "Columns = df.shape[1] - 1  #excluding date\n",
    "portfolioSize = Columns #set portfolio size\n",
    "#print(df.head())\n",
    "print(df.shape)\n",
    "\n",
    "#extract asset labels\n",
    "assetLabels = df.columns[1:Columns+1].tolist()\n",
    "print(len(assetLabels))\n",
    "print(assetLabels)\n",
    "\n",
    "#extract asset prices\n",
    "StockData = df.iloc[0:, 1:]\n",
    "print(StockData.shape)\n",
    "\n",
    "\n",
    "#compute asset returns\n",
    "arStockPrices = np.asarray(StockData)\n",
    "[Rows, Cols]=arStockPrices.shape\n",
    "arReturns = StockReturnsComputing(arStockPrices, Rows, Cols)\n",
    "\n",
    "\n",
    "#compute mean returns and variance covariance matrix of returns\n",
    "meanReturns = np.mean(arReturns, axis = 0)\n",
    "covReturns = np.cov(arReturns, rowvar=False)\n",
    "\n",
    "#set precision for printing results\n",
    "np.set_printoptions(precision=3, suppress = True)\n",
    "\n",
    "#display mean returns and variance-covariance matrix of returns\n",
    "print('Mean returns of assets in k-portfolio 1\\n', meanReturns)\n",
    "print('Variance-Covariance matrix of returns\\n', covReturns)"
   ]
  },
  {
   "cell_type": "code",
   "execution_count": 7,
   "metadata": {},
   "outputs": [
    {
     "name": "stdout",
     "output_type": "stream",
     "text": [
      "Maximal Expected Portfolio Return:    0.5248\n"
     ]
    },
    {
     "name": "stderr",
     "output_type": "stream",
     "text": [
      "C:\\Users\\DELL\\AppData\\Local\\Temp\\ipykernel_20116\\3027689823.py:13: DeprecationWarning: `method='simplex'` is deprecated and will be removed in SciPy 1.11.0. Please use one of the HiGHS solvers (e.g. `method='highs'`) in new code.\n",
      "  res = linprog(c, A_ub = A, b_ub = b, bounds = (0,1), method = 'simplex')\n"
     ]
    }
   ],
   "source": [
    "#Maximal expected portfolio return computation for the k-portfolio\n",
    "result1 = MaximizeReturns(meanReturns, portfolioSize)\n",
    "maxReturnWeights = result1.x\n",
    "maxExpPortfolioReturn = np.matmul(meanReturns.T, maxReturnWeights)\n",
    "print(\"Maximal Expected Portfolio Return:   %7.4f\" % maxExpPortfolioReturn )"
   ]
  },
  {
   "cell_type": "code",
   "execution_count": 8,
   "metadata": {},
   "outputs": [
    {
     "name": "stdout",
     "output_type": "stream",
     "text": [
      "Expected Return of Minimum Risk Portfolio:   0.0222\n"
     ]
    }
   ],
   "source": [
    "#expected portfolio return computation for the minimum risk k-portfolio \n",
    "result2 = MinimizeRisk(covReturns, portfolioSize)\n",
    "minRiskWeights = result2.x\n",
    "minRiskExpPortfolioReturn = np.matmul(meanReturns.T, minRiskWeights)\n",
    "print(\"Expected Return of Minimum Risk Portfolio:  %7.4f\" % minRiskExpPortfolioReturn)"
   ]
  },
  {
   "cell_type": "code",
   "execution_count": 9,
   "metadata": {},
   "outputs": [
    {
     "name": "stderr",
     "output_type": "stream",
     "text": [
      "c:\\Users\\DELL\\AppData\\Local\\Programs\\Python\\Python311\\Lib\\site-packages\\scipy\\optimize\\_hessian_update_strategy.py:182: UserWarning: delta_grad == 0.0. Check if the approximated function is linear. If the function is linear better results can be obtained by defining the Hessian as zero instead of using quasi-Newton approximations.\n",
      "  warn('delta_grad == 0.0. Check if the approximated '\n"
     ]
    },
    {
     "name": "stdout",
     "output_type": "stream",
     "text": [
      "Size of the  efficient set: (503, 68)\n",
      "Optimal weights of the efficient set portfolios: \n",
      " [[ 0.008  0.01   0.011 ...  0.008  0.009  0.008]\n",
      " [ 0.008  0.01   0.011 ...  0.008  0.009  0.008]\n",
      " [ 0.008  0.01   0.011 ...  0.008  0.009  0.008]\n",
      " ...\n",
      " [-0.    -0.    -0.    ... -0.    -0.    -0.   ]\n",
      " [-0.    -0.    -0.    ... -0.    -0.    -0.   ]\n",
      " [-0.    -0.    -0.    ... -0.    -0.    -0.   ]]\n",
      "Annualized Risk and Return of the efficient set portfolios: \n",
      " [[ 16.092   5.566]\n",
      " [ 16.091   5.817]\n",
      " [ 16.09    6.068]\n",
      " ...\n",
      " [159.161 131.066]\n",
      " [159.85  131.317]\n",
      " [166.999 131.568]]\n"
     ]
    }
   ],
   "source": [
    "#compute efficient set for the maximum return and minimum risk portfolios\n",
    "increment = 0.001\n",
    "low = minRiskExpPortfolioReturn\n",
    "high = maxExpPortfolioReturn\n",
    "\n",
    "#initialize optimal weight set and risk-return point set\n",
    "xOptimal =[]\n",
    "minRiskPoint = []\n",
    "expPortfolioReturnPoint =[]\n",
    "\n",
    "#repeated execution of function MinimizeRiskConstr to determine the efficient set \n",
    "while (low < high):\n",
    "    \n",
    "    result3 = MinimizeRiskConstr(meanReturns, covReturns, portfolioSize, low)\n",
    "    xOptimal.append(result3.x)\n",
    "    expPortfolioReturnPoint.append(low)\n",
    "    low = low+increment\n",
    "    \n",
    "#gather optimal weight set    \n",
    "xOptimalArray = np.array(xOptimal)\n",
    "\n",
    "#obtain annualized risk for the efficient set portfolios \n",
    "#for trading days = 251\n",
    "minRiskPoint = np.diagonal(np.matmul((np.matmul(xOptimalArray,covReturns)),\\\n",
    "                                     np.transpose(xOptimalArray)))\n",
    "riskPoint =   np.sqrt(minRiskPoint*251) \n",
    "\n",
    "#obtain expected portfolio annualized return for the \n",
    "#efficient set portfolios, for trading days = 251\n",
    "retPoint = 251*np.array(expPortfolioReturnPoint) \n",
    "\n",
    "#display efficient set portfolio parameters\n",
    "print(\"Size of the  efficient set:\", xOptimalArray.shape )\n",
    "print(\"Optimal weights of the efficient set portfolios: \\n\", xOptimalArray)\n",
    "print(\"Annualized Risk and Return of the efficient set portfolios: \\n\", \\\n",
    "                                                np.c_[riskPoint, retPoint])"
   ]
  },
  {
   "cell_type": "code",
   "execution_count": 13,
   "metadata": {},
   "outputs": [
    {
     "data": {
      "image/png": "[encoded data removed]",
      "text/plain": [
       "<Figure size 640x480 with 1 Axes>"
      ]
     },
     "metadata": {},
     "output_type": "display_data"
    }
   ],
   "source": [
    "#Graph Efficient Frontier\n",
    "import matplotlib.pyplot as plt\n",
    "\n",
    "NoPoints = riskPoint.size\n",
    "\n",
    "colours = \"blue\"\n",
    "area = np.pi*3\n",
    "\n",
    "plt.title('Efficient Frontier for min max risk return portfolio')\n",
    "plt.xlabel('Annualized Risk(%)')\n",
    "plt.ylabel('Annualized Expected Portfolio Return(%)' )\n",
    "plt.scatter(riskPoint, retPoint, s=area, c=colours, alpha =0.5)\n",
    "plt.show()"
   ]
  },
  {
   "cell_type": "code",
   "execution_count": null,
   "metadata": {},
   "outputs": [],
   "source": []
  }
 ],
 "metadata": {
  "kernelspec": {
   "display_name": "Python 3",
   "language": "python",
   "name": "python3"
  },
  "language_info": {
   "codemirror_mode": {
    "name": "ipython",
    "version": 3
   },
   "file_extension": ".py",
   "mimetype": "text/x-python",
   "name": "python",
   "nbconvert_exporter": "python",
   "pygments_lexer": "ipython3",
   "version": "3.11.4"
  },
  "orig_nbformat": 4
 },
 "nbformat": 4,
 "nbformat_minor": 2
}
