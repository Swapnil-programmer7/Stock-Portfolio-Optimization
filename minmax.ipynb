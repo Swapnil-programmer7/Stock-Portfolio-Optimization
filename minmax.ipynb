{
 "cells": [
  {
   "cell_type": "code",
   "execution_count": 2,
   "metadata": {},
   "outputs": [],
   "source": [
    "import pandas as pd\n",
    "import numpy as np\n",
    "from scipy.optimize import minimize"
   ]
  },
  {
   "cell_type": "code",
   "execution_count": 3,
   "metadata": {},
   "outputs": [],
   "source": [
    "\n",
    "# Read data\n",
    "df = pd.read_csv('dataset.csv', index_col=0)\n",
    "\n",
    "# Calculate daily returns, mean daily return, and covariance matrix\n",
    "returns = df.pct_change()\n",
    "expected_returns = returns.mean()\n",
    "cov_matrix = returns.cov()"
   ]
  },
  {
   "cell_type": "code",
   "execution_count": 4,
   "metadata": {},
   "outputs": [],
   "source": [
    "# Define portfolio performance and objective functions\n",
    "def portfolio_performance(weights, expected_returns, covariance_matrix):\n",
    "    portfolio_return = np.sum(weights * expected_returns)\n",
    "    portfolio_risk = np.sqrt(np.dot(weights.T, np.dot(covariance_matrix, weights)))\n",
    "    return portfolio_return, portfolio_risk"
   ]
  },
  {
   "cell_type": "code",
   "execution_count": 5,
   "metadata": {},
   "outputs": [],
   "source": [
    "def objective(weights, expected_returns, covariance_matrix):\n",
    "    portfolio_return, portfolio_risk = portfolio_performance(weights, expected_returns, covariance_matrix)\n",
    "    return portfolio_risk"
   ]
  },
  {
   "cell_type": "code",
   "execution_count": 6,
   "metadata": {},
   "outputs": [],
   "source": [
    "# Set initial weights and constraints for optimization\n",
    "initial_weights = np.ones(len(expected_returns)) / len(expected_returns)\n",
    "min_return = 0.05\n",
    "max_risk = 0.2"
   ]
  },
  {
   "cell_type": "code",
   "execution_count": 7,
   "metadata": {},
   "outputs": [],
   "source": [
    "constraints = [\n",
    "    {'type': 'eq', 'fun': lambda x: np.sum(x) - 1},\n",
    "    {'type': 'eq', 'fun': lambda x: expected_returns @ x - min_return},\n",
    "    {'type': 'ineq', 'fun': lambda x: x},\n",
    "    {'type': 'ineq', 'fun': lambda x: max_risk - np.sqrt(np.dot(x.T, np.dot(cov_matrix, x)))}]"
   ]
  },
  {
   "cell_type": "code",
   "execution_count": 8,
   "metadata": {},
   "outputs": [],
   "source": [
    "# Use minimize function to find optimal weights\n",
    "result = minimize(objective, initial_weights, args=(expected_returns, cov_matrix), constraints=constraints)\n",
    "optimal_weights = result.x"
   ]
  },
  {
   "cell_type": "code",
   "execution_count": 9,
   "metadata": {},
   "outputs": [],
   "source": [
    "# Calculate portfolio return and risk using optimal weights\n",
    "portfolio_return, portfolio_risk = portfolio_performance(optimal_weights, expected_returns, cov_matrix)"
   ]
  },
  {
   "cell_type": "code",
   "execution_count": 10,
   "metadata": {},
   "outputs": [
    {
     "name": "stdout",
     "output_type": "stream",
     "text": [
      "Optimal Weights:  [-1.09647744e-12 -1.13597682e-11 -5.12453928e-13 -6.06968924e-12\n",
      " -5.47828202e-12 -9.17071359e-16 -1.06731378e-11 -5.96212994e-12\n",
      " -1.19587951e-11 -9.06546472e-12 -4.41946394e-12 -3.77140869e-12\n",
      " -1.64782799e-11 -2.83568233e-12 -2.45086781e-12  1.00000000e+00\n",
      " -1.60514989e-11 -1.31242534e-12 -1.47185042e-11 -8.58824670e-12\n",
      " -1.22856578e-11 -7.09342841e-12 -6.31746676e-12 -1.39140974e-11\n",
      " -3.02754582e-12 -6.44449540e-13 -4.37264971e-12 -6.58617307e-12\n",
      " -2.10494299e-11 -1.88612220e-11 -2.52109771e-12 -2.45450339e-12\n",
      " -4.79097894e-12 -2.09335242e-11 -2.03135711e-12 -4.78309596e-12\n",
      " -6.72393038e-12 -1.76751778e-11 -1.65074706e-12 -5.68727146e-12\n",
      " -4.02638046e-12 -5.37361971e-14 -1.03697241e-11 -1.15804939e-11\n",
      " -2.93285410e-12 -8.65808233e-14 -3.05395793e-11  1.41216607e-14\n",
      " -3.66596191e-12 -1.20744359e-11 -8.18761405e-12 -1.16222760e-11\n",
      " -3.20908090e-12 -2.46392980e-12 -6.35124873e-12 -8.40759843e-12\n",
      " -1.33873848e-12  1.38760918e-13 -2.31747679e-11 -6.58468758e-12\n",
      " -4.74042272e-14 -5.81617996e-12 -4.74556444e-12 -4.14938936e-12\n",
      " -2.90623842e-12 -4.99363597e-12 -5.44453898e-12 -1.07258629e-11\n",
      " -1.58482316e-11]\n"
     ]
    }
   ],
   "source": [
    "print(\"Optimal Weights: \", optimal_weights)\n"
   ]
  },
  {
   "cell_type": "code",
   "execution_count": 11,
   "metadata": {},
   "outputs": [
    {
     "name": "stdout",
     "output_type": "stream",
     "text": [
      "Portfolio Return:  0.005247555541606286\n",
      "Portfolio Risk:  0.11043955586568119\n"
     ]
    }
   ],
   "source": [
    "print(\"Portfolio Return: \", portfolio_return)\n",
    "print(\"Portfolio Risk: \", portfolio_risk)"
   ]
  },
  {
   "cell_type": "code",
   "execution_count": 12,
   "metadata": {},
   "outputs": [],
   "source": []
  },
  {
   "cell_type": "code",
   "execution_count": null,
   "metadata": {},
   "outputs": [],
   "source": []
  }
 ],
 "metadata": {
  "kernelspec": {
   "display_name": "Python 3",
   "language": "python",
   "name": "python3"
  },
  "language_info": {
   "codemirror_mode": {
    "name": "ipython",
    "version": 3
   },
   "file_extension": ".py",
   "mimetype": "text/x-python",
   "name": "python",
   "nbconvert_exporter": "python",
   "pygments_lexer": "ipython3",
   "version": "3.11.4"
  },
  "orig_nbformat": 4
 },
 "nbformat": 4,
 "nbformat_minor": 2
}
