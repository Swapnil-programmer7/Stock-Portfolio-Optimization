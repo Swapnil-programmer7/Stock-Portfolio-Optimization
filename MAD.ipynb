{
 "cells": [
  {
   "cell_type": "code",
   "execution_count": 2,
   "metadata": {},
   "outputs": [],
   "source": [
    "import pandas as pd\n",
    "import numpy as np\n",
    "from scipy.optimize import minimize"
   ]
  },
  {
   "cell_type": "code",
   "execution_count": 3,
   "metadata": {},
   "outputs": [],
   "source": [
    "# Read data\n",
    "df = pd.read_csv('dataset.csv', index_col=0)\n",
    "\n",
    "# Calculate daily returns, mean daily return, and covariance matrix\n",
    "returns = df.pct_change()\n",
    "expected_returns = returns.mean()\n",
    "cov_matrix = returns.cov()"
   ]
  },
  {
   "cell_type": "code",
   "execution_count": 4,
   "metadata": {},
   "outputs": [],
   "source": [
    "# Define portfolio performance and objective functions\n",
    "def portfolio_performance(weights, expected_returns, covariance_matrix):\n",
    "    portfolio_return = np.sum(weights * expected_returns)\n",
    "    portfolio_risk = np.median(abs(np.dot(covariance_matrix, weights))) # MAD risk function\n",
    "    return portfolio_return, portfolio_risk"
   ]
  },
  {
   "cell_type": "code",
   "execution_count": 5,
   "metadata": {},
   "outputs": [],
   "source": [
    "def objective(weights, expected_returns, covariance_matrix):\n",
    "    portfolio_return, portfolio_risk = portfolio_performance(weights, expected_returns, covariance_matrix)\n",
    "    return portfolio_risk"
   ]
  },
  {
   "cell_type": "code",
   "execution_count": 6,
   "metadata": {},
   "outputs": [],
   "source": [
    "# Set initial weights and constraints for optimization\n",
    "initial_weights = np.ones(len(expected_returns)) / len(expected_returns)\n",
    "min_return = 0.05\n",
    "max_risk = 0.2"
   ]
  },
  {
   "cell_type": "code",
   "execution_count": 7,
   "metadata": {},
   "outputs": [],
   "source": [
    "\n",
    "constraints = [\n",
    "    {'type': 'eq', 'fun': lambda x: np.sum(x) - 1},\n",
    "    {'type': 'eq', 'fun': lambda x: expected_returns @ x - min_return},\n",
    "    {'type': 'ineq', 'fun': lambda x: x},\n",
    "    {'type': 'ineq', 'fun': lambda x: max_risk - np.median(abs(np.dot(cov_matrix, x)))}] # MAD risk function"
   ]
  },
  {
   "cell_type": "code",
   "execution_count": 8,
   "metadata": {},
   "outputs": [],
   "source": [
    "# Use minimize function to find optimal weights\n",
    "result = minimize(objective, initial_weights, args=(expected_returns, cov_matrix), constraints=constraints)\n",
    "optimal_weights = result.x"
   ]
  },
  {
   "cell_type": "code",
   "execution_count": 9,
   "metadata": {},
   "outputs": [],
   "source": [
    "# Calculate portfolio return and risk using optimal weights\n",
    "portfolio_return, portfolio_risk = portfolio_performance(optimal_weights, expected_returns, cov_matrix)"
   ]
  },
  {
   "cell_type": "code",
   "execution_count": 12,
   "metadata": {},
   "outputs": [
    {
     "name": "stdout",
     "output_type": "stream",
     "text": [
      "Optimal Weights:  [-4.96769773e-13 -1.58536671e-12 -1.24597292e-12  3.46134995e-13\n",
      "  1.15217046e-13  3.92389332e-13 -1.35312782e-12 -7.22267248e-14\n",
      " -6.25709497e-13  9.35896164e-13 -1.11916191e-14 -7.32705278e-13\n",
      "  1.85642026e-14 -4.33956787e-13 -4.45366397e-13  1.00000000e+00\n",
      " -2.60941830e-12  6.21703052e-13 -1.28847062e-13  2.13677068e-13\n",
      " -1.94020314e-13  1.10750696e-13 -1.69153100e-13 -4.95720333e-13\n",
      " -2.63906764e-13 -5.24367755e-13 -3.93902078e-13 -1.96279185e-14\n",
      "  2.43835011e-13  5.39012425e-13 -2.48383204e-13 -1.76831006e-15\n",
      " -7.25656412e-13  3.02268258e-13 -7.47815059e-13 -9.24905369e-13\n",
      " -1.97443980e-13  3.01544176e-13  1.59822706e-13 -4.68294835e-13\n",
      " -3.79602705e-13 -3.98099284e-13 -2.94266542e-13  2.72158963e-13\n",
      " -1.37969130e-14 -7.26331403e-14 -1.91510367e-12  1.99832483e-13\n",
      " -6.22019478e-13 -8.93415430e-13 -4.65543847e-13 -5.47479479e-13\n",
      " -3.50097696e-13  1.28583806e-13 -2.25489337e-14  1.30937138e-13\n",
      "  4.51520980e-14  2.19449227e-13  2.11818912e-15 -2.48500232e-12\n",
      "  1.53347378e-14 -2.56217175e-13 -2.65518727e-13  4.78548700e-14\n",
      " -6.09323294e-13  7.25257392e-13 -8.68166098e-14 -2.99206176e-13\n",
      " -1.29463212e-12]\n"
     ]
    }
   ],
   "source": [
    "print(\"Optimal Weights: \", optimal_weights)\n"
   ]
  },
  {
   "cell_type": "code",
   "execution_count": 13,
   "metadata": {},
   "outputs": [
    {
     "name": "stdout",
     "output_type": "stream",
     "text": [
      "Portfolio Return:  0.005247555539169792\n",
      "Portfolio Risk:  0.00018688222802922018\n"
     ]
    }
   ],
   "source": [
    "print(\"Portfolio Return: \", portfolio_return)\n",
    "print(\"Portfolio Risk: \", portfolio_risk)"
   ]
  },
  {
   "cell_type": "code",
   "execution_count": null,
   "metadata": {},
   "outputs": [],
   "source": []
  }
 ],
 "metadata": {
  "kernelspec": {
   "display_name": "Python 3",
   "language": "python",
   "name": "python3"
  },
  "language_info": {
   "codemirror_mode": {
    "name": "ipython",
    "version": 3
   },
   "file_extension": ".py",
   "mimetype": "text/x-python",
   "name": "python",
   "nbconvert_exporter": "python",
   "pygments_lexer": "ipython3",
   "version": "3.11.4"
  },
  "orig_nbformat": 4
 },
 "nbformat": 4,
 "nbformat_minor": 2
}
